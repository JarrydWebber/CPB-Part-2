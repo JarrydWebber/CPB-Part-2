{
 "cells": [
  {
   "cell_type": "code",
   "execution_count": 294,
   "metadata": {},
   "outputs": [],
   "source": [
    "import numpy as np\n",
    "import matplotlib.pyplot as plt\n",
    "%matplotlib inline\n",
    "\n",
    "import tbcontrol\n",
    "tbcontrol.expectversion('0.1.3')"
   ]
  },
  {
   "cell_type": "code",
   "execution_count": 295,
   "metadata": {},
   "outputs": [],
   "source": [
    "K = 0.6423 # Data from part 1\n",
    "τ = 150.312\n",
    "θ = 17.397\n",
    "\n",
    "Kc = 18.55\n",
    "τI = 41.49\n",
    "τD = 6.30\n",
    "\n",
    "ts = np.linspace(0, 500, 1000)\n",
    "dt = ts[1]"
   ]
  },
  {
   "cell_type": "code",
   "execution_count": 309,
   "metadata": {},
   "outputs": [],
   "source": [
    "# An attempt to do a numerical version of the discrete controller, code from the \"Discrete control notebook\"\n",
    "# Doesn't work well because im not sure how to do the numerical version of the sum/ delta e terms\n",
    "# Doesn't reach setpoint\n",
    "\n",
    "y_continuous = []\n",
    "u_continuous = []\n",
    "y = 0\n",
    "sp = 5\n",
    "\n",
    "e_list = [0]\n",
    "e_array = np.array(e_list)\n",
    "\n",
    "for t in ts:\n",
    "    e = sp - y\n",
    "    e_list.append(e)\n",
    "    k = 1\n",
    "    u = Kc*(e + DeltaT/τI * sum(e_array*dt) + τD/DeltaT*(e_list[k] - e_list[k - 1]))\n",
    "    dydt = 1/τ*(K*u - y)\n",
    "\n",
    "    \n",
    "    y += dydt*dt\n",
    "    k += 1\n",
    "    \n",
    "    u_continuous.append(u)\n",
    "    y_continuous.append(y)"
   ]
  },
  {
   "cell_type": "code",
   "execution_count": 310,
   "metadata": {},
   "outputs": [],
   "source": [
    "def plot_continuous():\n",
    "    fig, [ax_u, ax_y] = plt.subplots(2, 1, sharex=True)\n",
    "    ax_u.plot(ts, u_continuous) # Comment out \n",
    "    ax_y.plot(ts, y_continuous) # Comment out \n",
    "    ax_y.axhline(5)\n",
    "    ax_u.set_ylabel('$u(t)$')\n",
    "    ax_y.set_ylabel('$y(t)$')\n",
    "    ax_y.set_xlabel('time')\n",
    "    \n",
    "    return ax_u, ax_y"
   ]
  },
  {
   "cell_type": "code",
   "execution_count": 311,
   "metadata": {},
   "outputs": [
    {
     "data": {
      "text/plain": [
       "(<matplotlib.axes._subplots.AxesSubplot at 0x1c240bfc18>,\n",
       " <matplotlib.axes._subplots.AxesSubplot at 0x1c241080f0>)"
      ]
     },
     "execution_count": 311,
     "metadata": {},
     "output_type": "execute_result"
    },
    {
     "data": {
      "image/png": "[encoded data removed]",
      "text/plain": [
       "<Figure size 432x288 with 2 Axes>"
      ]
     },
     "metadata": {
      "needs_background": "light"
     },
     "output_type": "display_data"
    }
   ],
   "source": [
    "plot_continuous()"
   ]
  },
  {
   "cell_type": "code",
   "execution_count": 312,
   "metadata": {},
   "outputs": [
    {
     "data": {
      "text/plain": [
       "[<matplotlib.lines.Line2D at 0x1c24348b00>]"
      ]
     },
     "execution_count": 312,
     "metadata": {},
     "output_type": "execute_result"
    },
    {
     "data": {
      "image/png": "[encoded data removed]",
      "text/plain": [
       "<Figure size 432x288 with 2 Axes>"
      ]
     },
     "metadata": {
      "needs_background": "light"
     },
     "output_type": "display_data"
    }
   ],
   "source": [
    "# An attempt to do my own version of the discrete control stuff and test it on a FOPDT model (K, τ above)\n",
    "# Comment out the continuous plots to see the discrete graph nicely - it does reach setpoint\n",
    "\n",
    "u_discrete = []\n",
    "y_discrete = []\n",
    "\n",
    "DeltaT = 0.5 # sampling time\n",
    "\n",
    "ek_1=0\n",
    "ek=0\n",
    "sum_e=0\n",
    "y = 0\n",
    "sp = 5\n",
    "next_sample = 0\n",
    "for t in ts:\n",
    "    if t >= next_sample:\n",
    "        ek_1 = ek\n",
    "        ek = sp - y\n",
    "        sum_e += ek\n",
    "        u = Kc*(ek + DeltaT/τI * sum_e + τD/DeltaT*(ek-ek_1))\n",
    "        next_sample += DeltaT\n",
    "    dydt = 1/τ*(K*u - y)\n",
    "    y += dydt*dt\n",
    "    \n",
    "    u_discrete.append(u)\n",
    "    y_discrete.append(y)\n",
    "\n",
    "ax_u, ax_y = plot_continuous()\n",
    "ax_u.plot(ts, u_discrete)\n",
    "ax_y.plot(ts, y_discrete)"
   ]
  },
  {
   "cell_type": "code",
   "execution_count": 313,
   "metadata": {},
   "outputs": [],
   "source": [
    "# Code from group 6:"
   ]
  },
  {
   "cell_type": "code",
   "execution_count": 314,
   "metadata": {},
   "outputs": [],
   "source": [
    "import sympy\n",
    "sympy.init_printing()\n",
    "import numpy as np\n",
    "import matplotlib.pyplot as plt\n",
    "import pandas\n",
    "import control\n",
    "from random import gauss\n",
    "import tclab\n",
    "%matplotlib inline\n",
    "import scipy\n",
    "from scipy.integrate import odeint\n",
    "from scipy.optimize import fsolve\n",
    "import scipy.optimize\n",
    "import scipy.signal\n",
    "from tbcontrol import blocksim\n",
    "s = control.tf([1, 0], 1)"
   ]
  },
  {
   "cell_type": "code",
   "execution_count": 315,
   "metadata": {},
   "outputs": [],
   "source": [
    "def position_form(Tset, Kc_PID, τI_PID, τD_PID, Δt, connect, tspan, filename):  \n",
    "    \n",
    "    TCLab = tclab.setup(connected=connect, speedup=100)\n",
    "    with TCLab() as lab:\n",
    "        h = tclab.Historian(lab.sources)\n",
    "        plot = tclab.Plotter(h, tspan)\n",
    "        \n",
    "        e_I, dedt, e1 = 0, 0, 0\n",
    "        bias = (1/0.85)*(Tset-25)\n",
    "        for t in tclab.clock(tspan+200, step=Δt):\n",
    "            \n",
    "            if t >= tspan:\n",
    "                lab.Q1(0)\n",
    "            else:\n",
    "                \n",
    "                e = Tset - lab.T1\n",
    "                e_I += e\n",
    "                dedt = e1 - e \n",
    "                p = bias + Kc_PID*(e + (Δt/τI_PID)*e_I + (τD_PID/Δt)*(dedt))\n",
    "                e1 = e\n",
    "                lab.Q1(p)\n",
    "\n",
    "            plot.update(t)\n",
    "    h.to_csv(filename)"
   ]
  },
  {
   "cell_type": "code",
   "execution_count": 291,
   "metadata": {},
   "outputs": [
    {
     "data": {
      "image/png": "[encoded data removed]",
      "text/plain": [
       "<Figure size 640x480 with 4 Axes>"
      ]
     },
     "metadata": {},
     "output_type": "display_data"
    },
    {
     "name": "stdout",
     "output_type": "stream",
     "text": [
      "TCLab Model disconnected successfully.\n"
     ]
    },
    {
     "data": {
      "image/png": "[encoded data removed]",
      "text/plain": [
       "<Figure size 640x480 with 4 Axes>"
      ]
     },
     "metadata": {
      "needs_background": "light"
     },
     "output_type": "display_data"
    }
   ],
   "source": [
    "position_form(63, 18.55, 41.49, 6.30, 1, False, 1000, 'Test.csv')\n",
    "# These are our parameters"
   ]
  },
  {
   "cell_type": "code",
   "execution_count": null,
   "metadata": {},
   "outputs": [],
   "source": [
    "K = 0.6423\n",
    "τ = 150.312\n",
    "θ = 17.397\n",
    "\n",
    "Kc = 18.55\n",
    "τI = 41.49\n",
    "τD = 6.30"
   ]
  },
  {
   "cell_type": "code",
   "execution_count": null,
   "metadata": {},
   "outputs": [],
   "source": [
    "\n",
    "# Tset, Kc_PID, τI_PID, τD_PID, Δt, connect, tspan, filename\n",
    "\n",
    "# T1_list = []\n",
    "# Q1_list = []\n",
    "\n",
    "# e_I, dedt, e1 = 0, 0, 0\n",
    "\n",
    "# bias = 0\n",
    "\n",
    "# for t in (tspan+200, step=Δt):\n",
    "\n",
    "#         e = Tset - T1\n",
    "#         e_I += e\n",
    "#         dedt = e1 - e \n",
    "#         p = bias + Kc_PID*(e + (Δt/τI_PID)*e_I + (τD_PID/Δt)*(dedt))\n",
    "#         e1 = e\n",
    "        \n",
    "#         T1_list.append(T)\n",
    "\n",
    "#     plot.update(t)\n",
    "# winsound.Beep(400, 500) #Test end, switch fan off\n",
    "# h.to_csv(filename)"
   ]
  },
  {
   "cell_type": "markdown",
   "metadata": {},
   "source": [
    "Here's an attempt to solve the continuous problem using sympy, but the laplace stuff "
   ]
  },
  {
   "cell_type": "code",
   "execution_count": 258,
   "metadata": {},
   "outputs": [],
   "source": [
    "import sympy\n",
    "sympy.init_printing()"
   ]
  },
  {
   "cell_type": "code",
   "execution_count": 141,
   "metadata": {},
   "outputs": [
    {
     "data": {
      "image/png": "[encoded data removed]",
      "text/latex": [
       "$$\\frac{11.914665}{s \\left(155.6 s + 12.914665\\right)}$$"
      ],
      "text/plain": [
       "       11.914665       \n",
       "───────────────────────\n",
       "s⋅(155.6⋅s + 12.914665)"
      ]
     },
     "execution_count": 141,
     "metadata": {},
     "output_type": "execute_result"
    }
   ],
   "source": [
    "s = sympy.Symbol('s')\n",
    "t = sympy.Symbol('t', positive=True)\n",
    "\n",
    "α = 0.01\n",
    "Kc = 18.55\n",
    "τI = 41.49\n",
    "τD = 6.30\n",
    "\n",
    "Gc = Kc*(1 + 1/(τI*s))  # controller + τD*s/(α*τD*s + 1)\n",
    "G = K/(tau*s + 1)  # system\n",
    "\n",
    "G_cl = Gc*G/(1 + Gc*G)\n",
    "\n",
    "rs = 1/s  # step input r(s)\n",
    "\n",
    "ys = rs*G_cl  # system output y(s)\n",
    "es = rs - ys  # error\n",
    "us = Gc*es  # controller output\n",
    "\n",
    "us.collect(s)\n",
    "ys.collect(s)"
   ]
  },
  {
   "cell_type": "code",
   "execution_count": 147,
   "metadata": {},
   "outputs": [],
   "source": [
    "yt = sympy.inverse_laplace_transform(ys.collect(s).simplify(), s, t)\n",
    "# ut = sympy.inverse_laplace_transform(us.collect(s).simplify(), s, t)"
   ]
  },
  {
   "cell_type": "code",
   "execution_count": 148,
   "metadata": {},
   "outputs": [
    {
     "ename": "NameError",
     "evalue": "name 'ut' is not defined",
     "output_type": "error",
     "traceback": [
      "\u001b[0;31m---------------------------------------------------------------------------\u001b[0m",
      "\u001b[0;31mNameError\u001b[0m                                 Traceback (most recent call last)",
      "\u001b[0;32m<ipython-input-148-25cc6e78853e>\u001b[0m in \u001b[0;36m<module>\u001b[0;34m\u001b[0m\n\u001b[0;32m----> 1\u001b[0;31m \u001b[0msympy\u001b[0m\u001b[0;34m.\u001b[0m\u001b[0mplot\u001b[0m\u001b[0;34m(\u001b[0m\u001b[0mut\u001b[0m\u001b[0;34m,\u001b[0m \u001b[0;34m(\u001b[0m\u001b[0mt\u001b[0m\u001b[0;34m,\u001b[0m \u001b[0;36m0\u001b[0m\u001b[0;34m,\u001b[0m \u001b[0;36m100\u001b[0m\u001b[0;34m)\u001b[0m\u001b[0;34m,\u001b[0m \u001b[0mylim\u001b[0m\u001b[0;34m=\u001b[0m\u001b[0;34m(\u001b[0m\u001b[0;36m0\u001b[0m\u001b[0;34m,\u001b[0m\u001b[0;36m2\u001b[0m\u001b[0;34m)\u001b[0m\u001b[0;34m)\u001b[0m\u001b[0;34m\u001b[0m\u001b[0;34m\u001b[0m\u001b[0m\n\u001b[0m\u001b[1;32m      2\u001b[0m \u001b[0msympy\u001b[0m\u001b[0;34m.\u001b[0m\u001b[0mplot\u001b[0m\u001b[0;34m(\u001b[0m\u001b[0myt\u001b[0m\u001b[0;34m,\u001b[0m \u001b[0;34m(\u001b[0m\u001b[0mt\u001b[0m\u001b[0;34m,\u001b[0m \u001b[0;36m0\u001b[0m\u001b[0;34m,\u001b[0m \u001b[0;36m100\u001b[0m\u001b[0;34m)\u001b[0m\u001b[0;34m,\u001b[0m \u001b[0mylim\u001b[0m\u001b[0;34m=\u001b[0m\u001b[0;34m(\u001b[0m\u001b[0;36m0\u001b[0m\u001b[0;34m,\u001b[0m\u001b[0;36m2\u001b[0m\u001b[0;34m)\u001b[0m\u001b[0;34m)\u001b[0m\u001b[0;34m\u001b[0m\u001b[0;34m\u001b[0m\u001b[0m\n",
      "\u001b[0;31mNameError\u001b[0m: name 'ut' is not defined"
     ]
    }
   ],
   "source": [
    "sympy.plot(ut, (t, 0, 100), ylim=(0,2))\n",
    "sympy.plot(yt, (t, 0, 100), ylim=(0,2))"
   ]
  },
  {
   "cell_type": "code",
   "execution_count": 132,
   "metadata": {},
   "outputs": [],
   "source": [
    "import tbcontrol\n",
    "tbcontrol.expectversion(\"0.1.1\")\n",
    "\n",
    "from tbcontrol import blocksim\n",
    "import numpy\n",
    "import matplotlib.pyplot as plt\n",
    "\n",
    "%matplotlib inline"
   ]
  },
  {
   "cell_type": "code",
   "execution_count": 87,
   "metadata": {},
   "outputs": [],
   "source": [
    "Gp = blocksim.LTI('Gp', 'u', 'y', K, [τ, 1], θ)\n",
    "\n",
    "Gc = blocksim.PI('Gc', 'e', 'u', 12.235237180068426, 46.58043287192015)\n",
    "\n",
    "diagram = blocksim.Diagram([Gp, Gc], \n",
    "                           sums={'e': ('+ysp', '-y')}, \n",
    "                           inputs={'ysp': blocksim.step(initial=0, size=5)})"
   ]
  },
  {
   "cell_type": "code",
   "execution_count": 133,
   "metadata": {},
   "outputs": [
    {
     "data": {
      "application/vnd.jupyter.widget-view+json": {
       "model_id": "5de8fb54b3ea4dae9e11aac8c5ab5c61",
       "version_major": 2,
       "version_minor": 0
      },
      "text/plain": [
       "HBox(children=(IntProgress(value=0, max=1000), HTML(value='')))"
      ]
     },
     "metadata": {},
     "output_type": "display_data"
    },
    {
     "data": {
      "text/plain": [
       "[<matplotlib.lines.Line2D at 0x1c1c2d2e10>]"
      ]
     },
     "execution_count": 133,
     "metadata": {},
     "output_type": "execute_result"
    },
    {
     "data": {
      "image/png": "[encoded data removed]",
      "text/plain": [
       "<Figure size 432x288 with 1 Axes>"
      ]
     },
     "metadata": {
      "needs_background": "light"
     },
     "output_type": "display_data"
    }
   ],
   "source": [
    "ts = numpy.arange(start=0, stop=1000, step=1)\n",
    "simulation_results = diagram.simulate(ts, progress=True)\n",
    "plt.plot(ts, simulation_results['y'], label = 'y')"
   ]
  },
  {
   "cell_type": "code",
   "execution_count": 134,
   "metadata": {},
   "outputs": [],
   "source": [
    "blocksim.DiscreteTF?"
   ]
  },
  {
   "cell_type": "code",
   "execution_count": null,
   "metadata": {},
   "outputs": [],
   "source": []
  }
 ],
 "metadata": {
  "kernelspec": {
   "display_name": "Python 3",
   "language": "python",
   "name": "python3"
  },
  "language_info": {
   "codemirror_mode": {
    "name": "ipython",
    "version": 3
   },
   "file_extension": ".py",
   "mimetype": "text/x-python",
   "name": "python",
   "nbconvert_exporter": "python",
   "pygments_lexer": "ipython3",
   "version": "3.7.3"
  }
 },
 "nbformat": 4,
 "nbformat_minor": 2
}
