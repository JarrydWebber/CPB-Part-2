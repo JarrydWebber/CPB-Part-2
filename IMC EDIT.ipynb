{
 "cells": [
  {
   "cell_type": "code",
   "execution_count": 1,
   "metadata": {},
   "outputs": [],
   "source": [
    "import tclab\n",
    "from tclab import Plotter, clock, Historian\n",
    "\n",
    "import numpy as np\n",
    "import tbcontrol\n",
    "from tbcontrol import blocksim\n",
    "\n",
    "import matplotlib.pyplot as plt\n",
    "import pandas as pd\n",
    "\n",
    "import sympy\n",
    "s = sympy.Symbol('s')\n",
    "\n",
    "%matplotlib inline"
   ]
  },
  {
   "cell_type": "code",
   "execution_count": 2,
   "metadata": {},
   "outputs": [],
   "source": [
    "import control"
   ]
  },
  {
   "cell_type": "markdown",
   "metadata": {},
   "source": [
    "G = Gplus*Gminus \\\n",
    "Gplus contains time delays and RHP zeros \\\n",
    "\n",
    "Gplus steady state gain = 1\n",
    "\n",
    "G_imc = 1/Gminus * F\n",
    "\n",
    "F is low pass filter 1/(tauC s +1)**r\n",
    "\n",
    "Base model Transfer Function:\n",
    "FOPDT \\\n",
    "G_m = K * e**-theta s /(tau*s + 1)"
   ]
  },
  {
   "cell_type": "code",
   "execution_count": 16,
   "metadata": {},
   "outputs": [],
   "source": [
    "def trimmer(value, upper = 100, lower = 0):\n",
    "    if value>upper:\n",
    "        return upper\n",
    "    elif value<lower:\n",
    "        return lower\n",
    "    else:\n",
    "        return value"
   ]
  },
  {
   "cell_type": "code",
   "execution_count": 3,
   "metadata": {},
   "outputs": [],
   "source": [
    "def set_point(t):\n",
    "    if t>300:\n",
    "        return 50\n",
    "    else:\n",
    "        return 20"
   ]
  },
  {
   "cell_type": "code",
   "execution_count": 4,
   "metadata": {},
   "outputs": [],
   "source": [
    "K = 0.6423\n",
    "tau = 150.312\n",
    "theta = 17.397"
   ]
  },
  {
   "cell_type": "code",
   "execution_count": 5,
   "metadata": {},
   "outputs": [
    {
     "data": {
      "text/latex": [
       "$$\\frac{s}{1}$$"
      ],
      "text/plain": [
       "\n",
       "s\n",
       "-\n",
       "1"
      ]
     },
     "execution_count": 5,
     "metadata": {},
     "output_type": "execute_result"
    }
   ],
   "source": [
    "s = control.TransferFunction([1,0],[1])\n",
    "s"
   ]
  },
  {
   "cell_type": "code",
   "execution_count": 6,
   "metadata": {},
   "outputs": [],
   "source": [
    "model_tf = K/(tau*s +1) #PLUS DEADTIME"
   ]
  },
  {
   "cell_type": "code",
   "execution_count": 7,
   "metadata": {},
   "outputs": [],
   "source": [
    "r = 1\n",
    "tau_c = tau/3\n",
    "F = 1/(tau_c*s + 1)**r"
   ]
  },
  {
   "cell_type": "code",
   "execution_count": 8,
   "metadata": {},
   "outputs": [],
   "source": [
    "# G_plus = (np.exp**(-theta*s))"
   ]
  },
  {
   "cell_type": "code",
   "execution_count": 9,
   "metadata": {},
   "outputs": [],
   "source": [
    "G_minus = model_tf"
   ]
  },
  {
   "cell_type": "code",
   "execution_count": 10,
   "metadata": {},
   "outputs": [],
   "source": [
    "IMC_tf = (1/G_minus) * F"
   ]
  },
  {
   "cell_type": "code",
   "execution_count": 11,
   "metadata": {},
   "outputs": [],
   "source": [
    "run_time = 3000\n",
    "bias = 0\n",
    "bias_T = 20"
   ]
  },
  {
   "cell_type": "code",
   "execution_count": 17,
   "metadata": {},
   "outputs": [
    {
     "name": "stdout",
     "output_type": "stream",
     "text": [
      "TCLab version 0.4.9\n",
      "Simulated TCLab\n",
      "TCLab Model disconnected successfully.\n"
     ]
    }
   ],
   "source": [
    "# simulate zero-error run to get initial state vector\n",
    "T, yout, xout = control.forced_response(IMC_tf, [0, 1], None, transpose=True)\n",
    "\n",
    "# get initial state vector\n",
    "xcc = xout[-1]\n",
    "\n",
    "Tm, ymout, xmout = control.forced_response(model_tf, [0, 1], None, transpose=True)\n",
    "xcm = xmout[-1]\n",
    "\n",
    "TCLab = tclab.setup(connected=False, speedup=10)\n",
    "model_predictions = []\n",
    "errors = []\n",
    "controller_outputs = list(np.zeros(int(theta*10)))\n",
    "\n",
    "with TCLab() as lab:\n",
    "    sources = lab.sources\n",
    "    h = tclab.Historian(sources)\n",
    "    \n",
    "    prev_t = -1\n",
    "    \n",
    "    error = set_point(0) - lab.T1\n",
    "    \n",
    "    for t in clock(run_time):  # change to tclab.clock(steptime=steptime) to sync with time\n",
    "        # Figure out how much time has gone by since previous clock tick\n",
    "        # Note in the simulation case this will always be `steptime`, but when we sync\n",
    "        # it may not be, so we have to calculate correctly\n",
    "        Δt = t - prev_t\n",
    "        prev_t = t\n",
    "#         print(-int(theta/Δt)-1)\n",
    "        \n",
    "        # integrate controller assuming error stays constant over timestep (zero-order-hold)\n",
    "        # notice we're using the error from the previous time step, \n",
    "        # because we're simulating from one step ago to right now.\n",
    "        _, yout, xout = control.forced_response(IMC_tf, [0, Δt], [error, error], xcc, transpose=True)\n",
    "        \n",
    "        controller_output = yout[-1] + bias\n",
    "        controller_outputs.append(trimmer(controller_output))\n",
    "        xcc = xout[-1]\n",
    "        \n",
    "        \n",
    "        # predict model\n",
    "        _, ymout, xmout = control.forced_response(model_tf, [0, Δt], [controller_outputs[-int(theta/Δt)-1], controller_outputs[-int(theta/Δt)]], xcm, transpose=True)\n",
    "        \n",
    "        model_predictions.append((ymout[-1])+bias_T)\n",
    "        xcm = xmout[-1]\n",
    "        \n",
    "        # communicate with tclab\n",
    "        # We read the error at \"the same time\" as we write\n",
    "        # This ensures that the controller uses only information from the previous time step\n",
    "        error = set_point(t) - (lab.T1 - (ymout[-1]))\n",
    "        errors.append(error)\n",
    "                \n",
    "        # write out to tclab\n",
    "#         lab.Q2(disturbance(t))\n",
    "        lab.Q1(controller_output)\n",
    "        \n",
    "        # update historian\n",
    "        h.update(t)\n",
    "#         lab.update(t)  # for the real lab this is not required"
   ]
  },
  {
   "cell_type": "code",
   "execution_count": 18,
   "metadata": {},
   "outputs": [],
   "source": [
    "set_points = []\n",
    "for t in h.t:\n",
    "    set_points.append(set_point(t))"
   ]
  },
  {
   "cell_type": "code",
   "execution_count": 21,
   "metadata": {},
   "outputs": [
    {
     "data": {
      "text/plain": [
       "[<matplotlib.lines.Line2D at 0x1c016901e08>]"
      ]
     },
     "execution_count": 21,
     "metadata": {},
     "output_type": "execute_result"
    },
    {
     "data": {
      "image/png": "[encoded data removed]",
      "text/plain": [
       "<Figure size 432x288 with 1 Axes>"
      ]
     },
     "metadata": {
      "needs_background": "light"
     },
     "output_type": "display_data"
    }
   ],
   "source": [
    "plt.plot(h.t, h.logdict[\"T1\"] , 'g')\n",
    "# plt.plot(h.t, h.logdict[\"Q1\"] , 'c')\n",
    "plt.plot(h.t, set_points, 'b')\n",
    "# plt.plot(h.t, model_predictions, 'y')\n",
    "# plt.plot(h.t, errors, 'r')"
   ]
  },
  {
   "cell_type": "code",
   "execution_count": null,
   "metadata": {},
   "outputs": [],
   "source": []
  },
  {
   "cell_type": "code",
   "execution_count": null,
   "metadata": {},
   "outputs": [],
   "source": []
  }
 ],
 "metadata": {
  "kernelspec": {
   "display_name": "Python 3",
   "language": "python",
   "name": "python3"
  },
  "language_info": {
   "codemirror_mode": {
    "name": "ipython",
    "version": 3
   },
   "file_extension": ".py",
   "mimetype": "text/x-python",
   "name": "python",
   "nbconvert_exporter": "python",
   "pygments_lexer": "ipython3",
   "version": "3.7.4"
  }
 },
 "nbformat": 4,
 "nbformat_minor": 4
}
