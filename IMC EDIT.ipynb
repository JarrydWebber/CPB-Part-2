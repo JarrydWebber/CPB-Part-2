{
 "cells": [
  {
   "cell_type": "code",
   "execution_count": 1,
   "metadata": {},
   "outputs": [],
   "source": [
    "import tclab\n",
    "from tclab import Plotter, clock, Historian\n",
    "\n",
    "import numpy as np\n",
    "import tbcontrol\n",
    "from tbcontrol import blocksim\n",
    "\n",
    "import matplotlib.pyplot as plt\n",
    "import pandas as pd\n",
    "\n",
    "import sympy\n",
    "s = sympy.Symbol('s')\n",
    "\n",
    "%matplotlib inline"
   ]
  },
  {
   "cell_type": "code",
   "execution_count": 2,
   "metadata": {},
   "outputs": [],
   "source": [
    "Kp, τp, θp, To_p = 0.6423177737615754, 150.3121523254063, 17.396993066317368, 57.79957014481422\n",
    "τc = 0.8*θp\n",
    "f = 1/(τc*s+1)\n",
    "G_ = Kp/(τp*s+1)\n",
    "Gc_star = f*(G_)**-1\n",
    "\n",
    "Gimc = blocksim.LTI('Gc_imc','E','P',[τp,1],[Kp*τc,Kp]) #HERE I STRUGGLE WITH tau_c\n",
    "Gm = blocksim.LTI('Gc_m','P','Yt',[Kp],[τp,1])  #model is just the FOPDT fitted to our model\n",
    "\n",
    "# diagram_imc = blocksim.Diagram([Gimc,Gm],sums={},inputs={'E': blocksim.step()})\n",
    "\n",
    "# ts = np.linspace(0, 50, 1000)\n",
    "\n",
    "# simulation_imc = diagram_imc.simulate(ts) #, progress = True)\n",
    "\n",
    "# plt.plot(list(ts), simulation_imc['Yt'])\n",
    "# plt.show()"
   ]
  },
  {
   "cell_type": "markdown",
   "metadata": {},
   "source": [
    "TCLab = tclab.setup(connected=False, speedup=10)\n",
    "\n",
    "with TCLab() as lab:\n",
    "    sources = [('T1', lambda: lab.T1),\n",
    "               ('Q1', lambda: lab.U1)]\n",
    "    h = tclab.Historian(sources)\n",
    "#     p = Plotter(h, 180)\n",
    "    \n",
    "    for t in clock(1800):\n",
    "        if t < 300:\n",
    "            T1sp = 20\n",
    "        else:\n",
    "            T1sp = 50\n",
    "        Q1 = lab.Q1(Gimc.output)\n",
    "        T1 = lab.T1\n",
    "        e = T1sp - (T1 - Gm.output)\n",
    "        \n",
    "        Gimc.change_input(t, e)\n",
    "        Gimc.change_state(Gimc.state + Gimc.derivative(e))\n",
    "        \n",
    "        Gm.change_input(t,Gimc.output)\n",
    "        Gm.change_state(Gm.state + Gm.derivative(e))\n",
    "        \n",
    "        h.update(t) \n",
    "#         p.update(t)"
   ]
  },
  {
   "cell_type": "code",
   "execution_count": 3,
   "metadata": {},
   "outputs": [],
   "source": [
    "import control"
   ]
  },
  {
   "cell_type": "markdown",
   "metadata": {},
   "source": [
    "G = Gplus*Gminus \\\n",
    "Gplus contains time delays and RHP zeros \\\n",
    "\n",
    "Gplus steady state gain = 1\n",
    "\n",
    "G_imc = 1/Gminus * F\n",
    "\n",
    "F is low pass filter 1/(tauC s +1)**r\n",
    "\n",
    "Base model Transfer Function:\n",
    "FOPDT \\\n",
    "G_m = K * e**-theta s /(tau*s + 1)"
   ]
  },
  {
   "cell_type": "code",
   "execution_count": 4,
   "metadata": {},
   "outputs": [],
   "source": [
    "def set_point(t):\n",
    "    if t>300:\n",
    "        return 50\n",
    "    else:\n",
    "        return 20"
   ]
  },
  {
   "cell_type": "code",
   "execution_count": 5,
   "metadata": {},
   "outputs": [],
   "source": [
    "K = 0.6423\n",
    "tau = 150.312\n",
    "theta = 17.397"
   ]
  },
  {
   "cell_type": "code",
   "execution_count": 6,
   "metadata": {},
   "outputs": [
    {
     "data": {
      "text/latex": [
       "$$\\frac{s}{1}$$"
      ],
      "text/plain": [
       "\n",
       "s\n",
       "-\n",
       "1"
      ]
     },
     "execution_count": 6,
     "metadata": {},
     "output_type": "execute_result"
    }
   ],
   "source": [
    "s = control.TransferFunction([1,0],[1])\n",
    "s"
   ]
  },
  {
   "cell_type": "code",
   "execution_count": 7,
   "metadata": {},
   "outputs": [],
   "source": [
    "model_tf = K/(tau*s +1) #PLUS DEADTIME"
   ]
  },
  {
   "cell_type": "code",
   "execution_count": 42,
   "metadata": {},
   "outputs": [],
   "source": [
    "r = 1\n",
    "tau_c = 0.1\n",
    "F = 1/(tau_c*s + 1)**r"
   ]
  },
  {
   "cell_type": "code",
   "execution_count": 43,
   "metadata": {},
   "outputs": [],
   "source": [
    "# G_plus = (np.exp**(-theta*s))"
   ]
  },
  {
   "cell_type": "code",
   "execution_count": 44,
   "metadata": {},
   "outputs": [],
   "source": [
    "G_minus = model_tf"
   ]
  },
  {
   "cell_type": "code",
   "execution_count": 45,
   "metadata": {},
   "outputs": [],
   "source": [
    "IMC_tf = (1/G_minus) * F\n",
    "\n"
   ]
  },
  {
   "cell_type": "code",
   "execution_count": 57,
   "metadata": {},
   "outputs": [],
   "source": [
    "run_time = 1800\n",
    "bias = 0\n",
    "bias_T = 20"
   ]
  },
  {
   "cell_type": "code",
   "execution_count": 58,
   "metadata": {},
   "outputs": [],
   "source": [
    "# simulate zero-error run to get initial state vector\n",
    "T, yout, xout = control.forced_response(IMC_tf, [0, 1], None, transpose=True)\n",
    "\n",
    "# get initial state vector\n",
    "xcc = xcm = xout[-1]"
   ]
  },
  {
   "cell_type": "code",
   "execution_count": 59,
   "metadata": {},
   "outputs": [
    {
     "name": "stdout",
     "output_type": "stream",
     "text": [
      "TCLab version 0.4.9\n",
      "Simulated TCLab\n",
      "TCLab Model disconnected successfully.\n"
     ]
    }
   ],
   "source": [
    "TCLab = tclab.setup(connected=False, speedup=10)\n",
    "model_predictions = []\n",
    "errors = []\n",
    "controller_outputs = [0,0,0,0,0,0,0,0,0,0,0,0,0,0,0,0,0,0,0,0,0]\n",
    "\n",
    "with TCLab() as lab:\n",
    "    sources = lab.sources\n",
    "    h = tclab.Historian(sources)\n",
    "    \n",
    "    prev_t = -1\n",
    "    \n",
    "    error = set_point(0) - lab.T1\n",
    "    \n",
    "    for t in clock(run_time):  # change to tclab.clock(steptime=steptime) to sync with time\n",
    "        # Figure out how much time has gone by since previous clock tick\n",
    "        # Note in the simulation case this will always be `steptime`, but when we sync\n",
    "        # it may not be, so we have to calculate correctly\n",
    "        Δt = t - prev_t\n",
    "        prev_t = t\n",
    "#         print(-int(theta/Δt)-1)\n",
    "        \n",
    "        # integrate controller assuming error stays constant over timestep (zero-order-hold)\n",
    "        # notice we're using the error from the previous time step, \n",
    "        # because we're simulating from one step ago to right now.\n",
    "        _, yout, xout = control.forced_response(IMC_tf, [0, Δt], [error, error], xcc, transpose=True)\n",
    "        \n",
    "        controller_output = yout[-1] + bias\n",
    "        controller_outputs.append(controller_output)\n",
    "        xcc = xout[-1]\n",
    "        \n",
    "        \n",
    "        # predict model\n",
    "        _, ymout, xmout = control.forced_response(model_tf, [0, Δt], [controller_outputs[-int(theta/Δt)-1], controller_outputs[-int(theta/Δt)]], xcm, transpose=True)\n",
    "        \n",
    "        model_predictions.append((ymout[-1])+bias_T)\n",
    "        xcm = xmout[-1]\n",
    "        \n",
    "        # communicate with tclab\n",
    "        # We read the error at \"the same time\" as we write\n",
    "        # This ensures that the controller uses only information from the previous time step\n",
    "        error = set_point(t) - (lab.T1 - (ymout[-1] + bias))\n",
    "        errors.append(error)\n",
    "                \n",
    "        # write out to tclab\n",
    "#         lab.Q2(disturbance(t))\n",
    "        lab.Q1(controller_output)\n",
    "        \n",
    "        # update historian\n",
    "        h.update(t)\n",
    "        lab.update(t)  # for the real lab this is not required"
   ]
  },
  {
   "cell_type": "code",
   "execution_count": 60,
   "metadata": {},
   "outputs": [],
   "source": [
    "set_points = []\n",
    "for t in h.t:\n",
    "    set_points.append(set_point(t))"
   ]
  },
  {
   "cell_type": "code",
   "execution_count": 63,
   "metadata": {},
   "outputs": [
    {
     "data": {
      "text/plain": [
       "[<matplotlib.lines.Line2D at 0x22c08923388>]"
      ]
     },
     "execution_count": 63,
     "metadata": {},
     "output_type": "execute_result"
    },
    {
     "data": {
      "image/png": "[encoded data removed]",
      "text/plain": [
       "<Figure size 432x288 with 1 Axes>"
      ]
     },
     "metadata": {
      "needs_background": "light"
     },
     "output_type": "display_data"
    }
   ],
   "source": [
    "plt.plot(h.t, h.logdict[\"T1\"] , 'g')\n",
    "# plt.plot(h.t, h.logdict[\"Q1\"] , 'c')\n",
    "plt.plot(h.t, set_points, 'b')\n",
    "# plt.plot(h.t, model_predictions, 'y')\n",
    "# plt.plot(h.t, errors, 'r')"
   ]
  },
  {
   "cell_type": "code",
   "execution_count": null,
   "metadata": {},
   "outputs": [],
   "source": []
  }
 ],
 "metadata": {
  "kernelspec": {
   "display_name": "Python 3",
   "language": "python",
   "name": "python3"
  },
  "language_info": {
   "codemirror_mode": {
    "name": "ipython",
    "version": 3
   },
   "file_extension": ".py",
   "mimetype": "text/x-python",
   "name": "python",
   "nbconvert_exporter": "python",
   "pygments_lexer": "ipython3",
   "version": "3.7.4"
  }
 },
 "nbformat": 4,
 "nbformat_minor": 4
}
