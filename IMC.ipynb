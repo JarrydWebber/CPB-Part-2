{
 "cells": [
  {
   "cell_type": "code",
   "execution_count": 2,
   "metadata": {},
   "outputs": [],
   "source": [
    "import tclab\n",
    "from tclab import Plotter, clock, Historian\n",
    "\n",
    "import numpy as np\n",
    "import tbcontrol\n",
    "from tbcontrol import blocksim\n",
    "\n",
    "import matplotlib.pyplot as plt\n",
    "import pandas as pd\n",
    "\n",
    "import sympy\n",
    "s = sympy.Symbol('s')\n",
    "\n",
    "%matplotlib inline"
   ]
  },
  {
   "cell_type": "code",
   "execution_count": 3,
   "metadata": {},
   "outputs": [],
   "source": [
    "Kp, τp, θp, To_p = 0.6423177737615754, 150.3121523254063, 17.396993066317368, 57.79957014481422\n",
    "τc = 0.8*θp\n",
    "f = 1/(τc*s+1)\n",
    "G_ = Kp/(τp*s+1)\n",
    "Gc_star = f*(G_)**-1\n",
    "\n",
    "Gimc = blocksim.LTI('Gc_imc','E','P',[τp,1],[Kp*τc,Kp]) #HERE I STRUGGLE WITH tau_c\n",
    "Gm = blocksim.LTI('Gc_m','P','Yt',[Kp],[τp,1])  #model is just the FOPDT fitted to our model\n",
    "\n",
    "# diagram_imc = blocksim.Diagram([Gimc,Gm],sums={},inputs={'E': blocksim.step()})\n",
    "\n",
    "# ts = np.linspace(0, 50, 1000)\n",
    "\n",
    "# simulation_imc = diagram_imc.simulate(ts) #, progress = True)\n",
    "\n",
    "# plt.plot(list(ts), simulation_imc['Yt'])\n",
    "# plt.show()"
   ]
  },
  {
   "cell_type": "code",
   "execution_count": null,
   "metadata": {},
   "outputs": [
    {
     "data": {
      "image/png": "[encoded data removed]",
      "text/plain": [
       "<Figure size 640x240 with 2 Axes>"
      ]
     },
     "metadata": {},
     "output_type": "display_data"
    }
   ],
   "source": [
    "TCLab = tclab.setup(connected=False, speedup=10)\n",
    "\n",
    "with TCLab() as lab:\n",
    "    sources = [('T1', lambda: lab.T1),\n",
    "               ('Q1', lambda: lab.U1)]\n",
    "    h = tclab.Historian(sources)\n",
    "    p = Plotter(h, 1800)\n",
    "    \n",
    "    for t in clock(1800):\n",
    "        if t < 300:\n",
    "            T1sp = 20\n",
    "        else:\n",
    "            T1sp = 50\n",
    "        Q1 = lab.Q1(Gimc.output)\n",
    "        T1 = lab.T1\n",
    "        e = T1sp - (T1 - Gm.output)\n",
    "        \n",
    "        Gimc.change_input(t, e)\n",
    "        Gimc.change_state(Gimc.state + Gimc.derivative(e))\n",
    "        \n",
    "        Gm.change_input(t,Gimc.output)\n",
    "        Gm.change_state(Gm.state + Gm.derivative(e))\n",
    "        \n",
    "        h.update(t) \n",
    "        p.update(t)"
   ]
  },
  {
   "cell_type": "code",
   "execution_count": null,
   "metadata": {},
   "outputs": [],
   "source": []
  }
 ],
 "metadata": {
  "kernelspec": {
   "display_name": "Python 3",
   "language": "python",
   "name": "python3"
  },
  "language_info": {
   "codemirror_mode": {
    "name": "ipython",
    "version": 3
   },
   "file_extension": ".py",
   "mimetype": "text/x-python",
   "name": "python",
   "nbconvert_exporter": "python",
   "pygments_lexer": "ipython3",
   "version": "3.7.1"
  }
 },
 "nbformat": 4,
 "nbformat_minor": 2
}
